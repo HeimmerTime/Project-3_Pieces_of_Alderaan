{
 "cells": [
  {
   "cell_type": "code",
   "execution_count": 1,
   "id": "df9a0baf-62c3-475a-9ee3-776cb5ae2557",
   "metadata": {},
   "outputs": [
    {
     "ename": "SyntaxError",
     "evalue": "invalid syntax (<ipython-input-1-737cf8fcc74d>, line 1)",
     "output_type": "error",
     "traceback": [
      "\u001b[1;36m  File \u001b[1;32m\"<ipython-input-1-737cf8fcc74d>\"\u001b[1;36m, line \u001b[1;32m1\u001b[0m\n\u001b[1;33m    pragma solidity ^0.6.0;\u001b[0m\n\u001b[1;37m           ^\u001b[0m\n\u001b[1;31mSyntaxError\u001b[0m\u001b[1;31m:\u001b[0m invalid syntax\n"
     ]
    }
   ],
   "source": [
    "pragma solidity ^0.6.0;\n",
    "\n",
    "import \"https://github.com/OpenZeppelin/openzeppelin-contracts/blob/release-v3.4/contracts/token/ERC721/ERC721.sol\";\n",
    "import \"https://github.com/OpenZeppelin/openzeppelin-contracts/blob/release-v3.4/contracts/access/Ownable.sol\";\n",
    "import \"https://github.com/smartcontractkit/chainlink-brownie-contracts/blob/main/contracts/src/v0.6/VRFConsumerBase.sol\";\n",
    "\n",
    "contract AlderaanCollectible is ERC721, VRFConsumerBase  {\n",
    "   uint256 public tokenCounter;\n",
    "    enum Planetoid{Isatabith, Terrarium, Crevasse, Juranno, Imperial, Aldera, Cloudshape_Falls}\n",
    "    # add other things\n",
    "    mapping(bytes32 => address) public requestIdToSender;\n",
    "    mapping(bytes32 => string) public requestIdToTokenURI;\n",
    "    mapping(uint256 => Planetoid) public tokenIdToMint;\n",
    "    mapping(bytes32 => uint256) public requestIdToTokenId;\n",
    "    event requestedCollectible(bytes32 indexed requestId); \n",
    "\n",
    "\n",
    "    bytes32 internal keyHash;\n",
    "    uint256 internal fee;\n",
    "    uint256 public randomResult;\n",
    "    constructor(address _VRFCoordinator, address _LinkToken, bytes32 _keyhash)\n",
    "    public \n",
    "   \n",
    "    VRFConsumerBase (_VRFCoordinator, _LinkToken)\n",
    "    ERC721(\"MosEisley_Mint\", \"ALDRN\")\n",
    "\n",
    "    \n",
    "    {\n",
    "        tokenCounter = 0;\n",
    "        keyHash = _keyhash;\n",
    "        fee = 0.1 * 10 ** 18;\n",
    "\n",
    "    }\n",
    "    \n",
    "        \n",
    "        \n",
    "    function createCollectible(string memory tokenURI, uint256 userProvidedSeed) \n",
    "        public returns (bytes32){\n",
    "            bytes32 requestId = requestRandomness(keyHash, fee, userProvidedSeed);\n",
    "            requestIdToSender[requestId] = msg.sender;\n",
    "            requestIdToTokenURI[requestId] = tokenURI;\n",
    "            emit requestedCollectible(requestId);\n",
    "    }\n",
    "\n",
    "    function fulfillRandomness(bytes32 requestId, uint256 randomNumber) internal {\n",
    "        address planetoidOwner = requestIdToSender[requestId];\n",
    "        string memory tokenURI = requestIdToTokenURI[requestId];\n",
    "        uint256 newItemId = tokenCounter;\n",
    "        _safeMint(planetoidOwner,newItemId);\n",
    "        setTokenURI(newItemId, tokenURI);\n",
    "        Planetoid planetoid= Planetoid(randomNumber % 3); \n",
    "        tokenIdToPlanetoid[newItemId] = planetoid;\n",
    "        requestIdToTokenId[requestId] = newItemId;\n",
    "        tokenCounter = tokenCounter + 1;\n",
    "    }\n",
    "\n",
    "    function setTokenURI(uint256 tokenId, string memory _tokenURI) public {\n",
    "        require(\n",
    "            _isApprovedOrOwner(_msgSender(), tokenId),\n",
    "            \"ERC721: transfer caller is not owner nor approved\"\n",
    "        );\n",
    "        setTokenURI(newItemId, _tokenURI);\n",
    "    }\n",
    "}"
   ]
  },
  {
   "cell_type": "code",
   "execution_count": null,
   "id": "b380278c-a8d8-4a54-89c5-7d5ae70e49d7",
   "metadata": {},
   "outputs": [],
   "source": []
  }
 ],
 "metadata": {
  "kernelspec": {
   "display_name": "Python 3",
   "language": "python",
   "name": "python3"
  },
  "language_info": {
   "codemirror_mode": {
    "name": "ipython",
    "version": 3
   },
   "file_extension": ".py",
   "mimetype": "text/x-python",
   "name": "python",
   "nbconvert_exporter": "python",
   "pygments_lexer": "ipython3",
   "version": "3.8.5"
  }
 },
 "nbformat": 4,
 "nbformat_minor": 5
}
